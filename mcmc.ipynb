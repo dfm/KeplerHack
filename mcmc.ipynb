{
 "cells": [
  {
   "cell_type": "code",
   "execution_count": null,
   "metadata": {
    "collapsed": true
   },
   "outputs": [],
   "source": [
    "names = [\n",
    "    \"chi2\", \"acc\", \"par\",\n",
    "    \"rho\", \"ld1\", \"ld2\", \"ld3\", \"ld4\",\n",
    "    \"dil\", \"vof\", \"zpt\", \"t0\", \"period\",\n",
    "    \"impact\", \"ror\", \"ecos\", \"esin\", \"Krv\",\n",
    "    \"second_depth\", \"ellips\", \"pc_amp\",\n",
    "]\n",
    "mcmc = pd.read_csv(\"data/koi401.n/mcmc.401.n3.dat\", skiprows=1, names=names, header=None, delim_whitespace=True)"
   ]
  },
  {
   "cell_type": "code",
   "execution_count": null,
   "metadata": {
    "collapsed": true
   },
   "outputs": [],
   "source": [
    "mcmc.ror * star.radius / 0.009171"
   ]
  }
 ],
 "metadata": {
  "kernelspec": {
   "display_name": "Python 3",
   "language": "python",
   "name": "python3"
  },
  "language_info": {
   "codemirror_mode": {
    "name": "ipython",
    "version": 3
   },
   "file_extension": ".py",
   "mimetype": "text/x-python",
   "name": "python",
   "nbconvert_exporter": "python",
   "pygments_lexer": "ipython3",
   "version": "3.4.3"
  }
 },
 "nbformat": 4,
 "nbformat_minor": 0
}
