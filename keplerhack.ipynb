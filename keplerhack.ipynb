{
 "cells": [
  {
   "cell_type": "code",
   "execution_count": 1,
   "metadata": {
    "collapsed": true
   },
   "outputs": [],
   "source": [
    "%matplotlib inline"
   ]
  },
  {
   "cell_type": "markdown",
   "metadata": {},
   "source": [
    "# Kepler Hack: Q1–Q17 Occurrence Rate Calculation\n",
    "\n",
    "By: Dan Foreman-Mackey\n",
    "\n",
    "This is a version of [a blog post I wrote](http://dan.iel.fm/posts/exopop/) updated for the most recent Kepler data release. The main change from Q1–Q16 is that the completeness model has changed. The main changes are:\n",
    "\n",
    "1. the MES threshold should be set to 15\n",
    "2. the matched filter was no longer a box. Eherefore the \"depth\" relevant for the completeness should be the *minimum* not the *mean*.\n",
    "\n",
    "First, a helper function for downloading data from the Exoplanet Archive:"
   ]
  },
  {
   "cell_type": "code",
   "execution_count": 179,
   "metadata": {
    "collapsed": true
   },
   "outputs": [],
   "source": [
    "import os\n",
    "import requests\n",
    "import numpy as np\n",
    "import pandas as pd\n",
    "from io import BytesIO  # Python 3 only!\n",
    "import matplotlib.pyplot as pl\n",
    "\n",
    "\n",
    "def get_catalog(name, basepath=\"data\"):\n",
    "    \"\"\"\n",
    "    Download a catalog from the Exoplanet Archive by name and save it as a\n",
    "    Pandas HDF5 file.\n",
    "\n",
    "    :param name:     the table name\n",
    "    :param basepath: the directory where the downloaded files should be saved\n",
    "                     (default: ``data`` in the current working directory)\n",
    "\n",
    "    \"\"\"\n",
    "    fn = os.path.join(basepath, \"{0}.h5\".format(name))\n",
    "    if os.path.exists(fn):\n",
    "        return pd.read_hdf(fn, name)\n",
    "    if not os.path.exists(basepath):\n",
    "        os.makedirs(basepath)\n",
    "    print(\"Downloading {0}...\".format(name))\n",
    "    url = (\"http://exoplanetarchive.ipac.caltech.edu/cgi-bin/nstedAPI/\"\n",
    "           \"nph-nstedAPI?table={0}&select=*\").format(name)\n",
    "    r = requests.get(url)\n",
    "    if r.status_code != requests.codes.ok:\n",
    "        r.raise_for_status()\n",
    "    fh = BytesIO(r.content)\n",
    "    df = pd.read_csv(fh)\n",
    "    df.to_hdf(fn, name, format=\"t\")\n",
    "    return df"
   ]
  },
  {
   "cell_type": "markdown",
   "metadata": {},
   "source": [
    "Here's the completeness model to apply to Q1—Q17 catalog:"
   ]
  },
  {
   "cell_type": "code",
   "execution_count": 180,
   "metadata": {
    "collapsed": false
   },
   "outputs": [],
   "source": [
    "def get_duration(period, aor, e):\n",
    "    \"\"\"\n",
    "    Equation (1) from Burke et al. This estimates the transit\n",
    "    duration in the same units as the input period. There is a\n",
    "    typo in the paper (24/4 = 6 != 4).\n",
    "    \n",
    "    :param period: the period in any units of your choosing\n",
    "    :param aor:    the dimensionless semi-major axis (scaled\n",
    "                   by the stellar radius)\n",
    "    :param e:      the eccentricity of the orbit\n",
    "    \n",
    "    \"\"\"\n",
    "    return 0.25 * period * np.sqrt(1 - e**2) / aor\n",
    "\n",
    "def get_a(period, mstar, Go4pi=2945.4625385377644/(4*np.pi*np.pi)):\n",
    "    \"\"\"\n",
    "    Compute the semi-major axis of an orbit in Solar radii.\n",
    "    \n",
    "    :param period: the period in days\n",
    "    :param mstar:  the stellar mass in Solar masses\n",
    "    \n",
    "    \"\"\"\n",
    "    return (Go4pi*period*period*mstar) ** (1./3)\n",
    "\n",
    "def get_delta(k, c=1.0874, s=1.0187, mean=False):\n",
    "    \"\"\"\n",
    "    Estimate the approximate expected transit depth as a function\n",
    "    of radius ratio. There might be a typo here. In the paper it\n",
    "    uses c + s*k but in the public code, it is c - s*k:\n",
    "    https://github.com/christopherburke/KeplerPORTs\n",
    "    \n",
    "    :param k: the dimensionless radius ratio between the planet and\n",
    "              the star\n",
    "    \n",
    "    \"\"\"\n",
    "    delta_max = k*k * (c + s*k)\n",
    "    if mean:\n",
    "        return 0.84 * delta_max\n",
    "    return delta_max\n",
    "\n",
    "cdpp_cols = [k for k in get_catalog(\"q1_q17_dr24_stellar\").keys() if k.startswith(\"rrmscdpp\")]\n",
    "cdpp_vals = np.array([k[-4:].replace(\"p\", \".\") for k in cdpp_cols], dtype=float)\n",
    "def get_mes(star, period, rp, tau, re=0.009171, mean=False):\n",
    "    \"\"\"\n",
    "    Estimate the multiple event statistic value for a transit.\n",
    "    \n",
    "    :param star:   a pandas row giving the stellar properties\n",
    "    :param period: the period in days\n",
    "    :param rp:     the planet radius in Earth radii\n",
    "    :param tau:    the transit duration in hours\n",
    "    \n",
    "    \"\"\"\n",
    "    # Interpolate to the correct CDPP for the duration.\n",
    "    cdpp = np.array(star[cdpp_cols], dtype=float)\n",
    "    sigma = np.interp(tau, cdpp_vals, cdpp)\n",
    "\n",
    "    # Compute the radius ratio and estimate the S/N.\n",
    "    k = rp * re / star.radius\n",
    "    snr = get_delta(k, mean=mean) * 1e6 / sigma\n",
    "    \n",
    "    # Scale by the estimated number of transits.\n",
    "    ntrn = star.dataspan * star.dutycycle / period \n",
    "    return snr * np.sqrt(ntrn)\n",
    "\n",
    "# Pre-compute and freeze the gamma function from Equation (5) in\n",
    "# Burke et al.\n",
    "mesthresh = 15\n",
    "def get_pdet(star, aor, period, rp, e, comp_p, mean=False):\n",
    "    \"\"\"\n",
    "    Equation (5) from Burke et al. Estimate the detection efficiency\n",
    "    for a transit.\n",
    "    \n",
    "    :param star:   a pandas row giving the stellar properties\n",
    "    :param aor:    the dimensionless semi-major axis (scaled\n",
    "                   by the stellar radius)\n",
    "    :param period: the period in days\n",
    "    :param rp:     the planet radius in Earth radii\n",
    "    :param e:      the orbital eccentricity\n",
    "    \n",
    "    \"\"\"\n",
    "    tau = get_duration(period, aor, e) * 24.\n",
    "    mes = get_mes(star, period, rp, tau, mean=mean)\n",
    "    y = np.polyval(comp_p, mes) / (1 + np.exp(-2.0*(mes-mesthresh)))\n",
    "    return y * (y <= 1.0) + 1.0 * (y > 1.0)\n",
    "\n",
    "def get_pwin(star, period):\n",
    "    \"\"\"\n",
    "    Equation (6) from Burke et al. Estimates the window function\n",
    "    using a binomial distribution.\n",
    "    \n",
    "    :param star:   a pandas row giving the stellar properties\n",
    "    :param period: the period in days\n",
    "    \n",
    "    \"\"\"\n",
    "    M = star.dataspan / period\n",
    "    f = star.dutycycle\n",
    "    omf = 1.0 - f\n",
    "    pw = 1 - omf**M - M*f*omf**(M-1) - 0.5*M*(M-1)*f*f*omf**(M-2)\n",
    "    msk = (pw >= 0.0) * (M >= 2.0)\n",
    "    return pw * msk\n",
    "\n",
    "def get_pgeom(aor, e):\n",
    "    \"\"\"\n",
    "    The geometric transit probability.\n",
    "    \n",
    "    See e.g. Kipping (2014) for the eccentricity factor\n",
    "    http://arxiv.org/abs/1408.1393\n",
    "    \n",
    "    :param aor: the dimensionless semi-major axis (scaled\n",
    "                by the stellar radius)\n",
    "    :param e:   the orbital eccentricity\n",
    "\n",
    "    \"\"\"\n",
    "    return 1. / (aor * (1 - e*e)) * (aor > 1.0)\n",
    "\n",
    "def get_completeness(star, period, rp, e, comp_p, with_geom=True, mean=False):\n",
    "    \"\"\"\n",
    "    A helper function to combine all the completeness effects.\n",
    "    \n",
    "    :param star:      a pandas row giving the stellar properties\n",
    "    :param period:    the period in days\n",
    "    :param rp:        the planet radius in Earth radii\n",
    "    :param e:         the orbital eccentricity\n",
    "    :param with_geom: include the geometric transit probability?\n",
    "    \n",
    "    \"\"\"\n",
    "    aor = get_a(period, star.mass) / star.radius\n",
    "    pdet = get_pdet(star, aor, period, rp, e, comp_p, mean=mean)\n",
    "    pwin = get_pwin(star, period)\n",
    "    if not with_geom:\n",
    "        return pdet * pwin\n",
    "    pgeom = get_pgeom(aor, e)\n",
    "    return pdet * pwin * pgeom"
   ]
  },
  {
   "cell_type": "markdown",
   "metadata": {},
   "source": [
    "And a function for estimating the occurrence rate (assumed constant) in a bin in $T_\\mathrm{eff}$ and period:"
   ]
  },
  {
   "cell_type": "code",
   "execution_count": 181,
   "metadata": {
    "collapsed": false
   },
   "outputs": [],
   "source": [
    "def run_analysis(trng, period_rng):\n",
    "    stlr = get_catalog(\"q1_q17_dr24_stellar\")\n",
    "    \n",
    "    # Select the stars.\n",
    "    m = np.isfinite(stlr.teff) & (trng[0] <= stlr.teff) & (stlr.teff < trng[1])\n",
    "    m &= np.isfinite(stlr.logg) & (4.0 <= stlr.logg)\n",
    "    \n",
    "    # Only include stars with sufficient data coverage.\n",
    "    m &= (stlr.dutycycle * stlr.dataspan) > 2*365.25\n",
    "    m &= stlr.dutycycle > 0.33\n",
    "\n",
    "    # Only select stars with mass estimates.\n",
    "    m &= np.isfinite(stlr.mass)\n",
    "    stlr = pd.DataFrame(stlr[m])\n",
    "    print(\"Selected {0} targets after cuts\".format(len(stlr)))\n",
    "    \n",
    "    # KOI catalog.\n",
    "    kois = get_catalog(\"q1_q17_dr24_koi\")\n",
    "\n",
    "    # Select candidates.\n",
    "    rp_rng = (1.5, 2.3)\n",
    "\n",
    "    # Join on the stellar list.\n",
    "    kois = pd.merge(kois, stlr[[\"kepid\", \"teff\", \"radius\"]], on=\"kepid\", how=\"inner\")\n",
    "\n",
    "    # Only select the KOIs in the relevant part of parameter space.\n",
    "    m = kois.koi_pdisposition == \"CANDIDATE\"\n",
    "    base_kois = pd.DataFrame(kois[m])\n",
    "    m &= (period_rng[0] <= kois.koi_period) & (kois.koi_period < period_rng[1])\n",
    "    m &= np.isfinite(kois.koi_prad) & (rp_rng[0] <= kois.koi_prad) & (kois.koi_prad < rp_rng[1])\n",
    "    m &= np.isfinite(kois.koi_max_mult_ev) & (kois.koi_max_mult_ev > 15.0)\n",
    "\n",
    "    kois = pd.DataFrame(kois[m])\n",
    "    print(\"Selected {0} KOIs after cuts\".format(len(kois)))\n",
    "    \n",
    "    # Calibrate the completeness.\n",
    "    inj = pd.read_csv(\"data/DR24-Pipeline-Detection-Efficiency-Table.txt\", delim_whitespace=True,\n",
    "                  skiprows=4, header=None, names=[\n",
    "                    \"kepid\", \"sky\", \"period\", \"epoch\", \"t_depth\", \"t_dur\", \"t_b\", \"t_ror\", \"t_aor\",\n",
    "                    \"offset_from_source\", \"offset_distance\", \"expect_mes\", \"recovered\", \"meas_mes\",\n",
    "                    \"r_period\", \"r_epoch\", \"r_depth\", \"r_dur\", \"r_b\", \"r_ror\", \"r_aor\"\n",
    "                  ], na_values=\"null\")\n",
    "\n",
    "    # Join on the stellar list.\n",
    "    inj = pd.merge(inj, stlr[[\"kepid\"]], on=\"kepid\", how=\"inner\")\n",
    "\n",
    "    # Estimate the linear trend above 15 MES.\n",
    "    bins = np.linspace(mesthresh, 80, 20)\n",
    "    n_tot, _ = np.histogram(inj.expect_mes, bins)\n",
    "    m = inj.meas_mes > mesthresh\n",
    "    # m = inj.expect_mes > mesthresh\n",
    "    m &= inj.recovered\n",
    "    n_rec, _ = np.histogram(inj.expect_mes[m], bins)\n",
    "\n",
    "    x = 0.5 * (bins[:-1] + bins[1:])\n",
    "    y = n_rec / n_tot\n",
    "    m = np.isfinite(y)\n",
    "    x, y = x[m], y[m]\n",
    "\n",
    "    pl.figure()\n",
    "    comp_p = np.polyfit(x, y, 1)\n",
    "    pl.plot(x, y)\n",
    "\n",
    "    x0 = np.linspace(0, 80, 500)\n",
    "    pl.plot(x0, np.polyval(comp_p, x0) / (1 + np.exp(-2*(x0-mesthresh))))\n",
    "    pl.xlabel(\"expected MES\");\n",
    "    \n",
    "    # Compute the mean completeness.\n",
    "    print(\"Computing mean completeness...\")\n",
    "    p = np.exp(np.random.uniform(np.log(period_rng[0]), np.log(period_rng[1]), 5000))\n",
    "    r = np.exp(np.random.uniform(np.log(rp_rng[0]), np.log(rp_rng[1]), len(p)))\n",
    "    c = np.zeros(len(p))\n",
    "    for _, star in stlr.iterrows():\n",
    "        c += get_completeness(star, p, r, 0.0, comp_p, with_geom=True)\n",
    "      \n",
    "    # Compute occurrence rate.\n",
    "    Q = np.mean(c)\n",
    "    N = len(kois)\n",
    "    occ = N / Q\n",
    "    sig = occ / np.sqrt(N)\n",
    "    print(\"{0:.3} ± {1:.3}\".format(occ, sig))\n",
    "    \n",
    "    return occ, sig, N, Q, comp_p"
   ]
  },
  {
   "cell_type": "markdown",
   "metadata": {},
   "source": [
    "G-dwarfs:"
   ]
  },
  {
   "cell_type": "code",
   "execution_count": 182,
   "metadata": {
    "collapsed": false
   },
   "outputs": [
    {
     "name": "stdout",
     "output_type": "stream",
     "text": [
      "Selected 60022 targets after cuts\n",
      "Selected 25 KOIs after cuts\n",
      "Computing mean completeness...\n",
      "0.0952 ± 0.019\n"
     ]
    },
    {
     "data": {
      "text/plain": [
       "(0.095167746339740719,\n",
       " 0.019033549267948143,\n",
       " 25,\n",
       " 262.69404248317636,\n",
       " array([ 0.00251246,  0.74682044]))"
      ]
     },
     "execution_count": 182,
     "metadata": {},
     "output_type": "execute_result"
    },
    {
     "data": {
      "image/png": "[encoded data removed]",
      "text/plain": [
       "<matplotlib.figure.Figure at 0x186e83470>"
      ]
     },
     "metadata": {},
     "output_type": "display_data"
    }
   ],
   "source": [
    "run_analysis((5300.0, 6000.0), (40, 80))"
   ]
  },
  {
   "cell_type": "markdown",
   "metadata": {},
   "source": [
    "M-dwarfs:"
   ]
  },
  {
   "cell_type": "code",
   "execution_count": 185,
   "metadata": {
    "collapsed": false
   },
   "outputs": [
    {
     "name": "stdout",
     "output_type": "stream",
     "text": [
      "Selected 2386 targets after cuts\n",
      "Selected 8 KOIs after cuts\n",
      "Computing mean completeness...\n",
      "0.306 ± 0.108\n"
     ]
    },
    {
     "data": {
      "text/plain": [
       "(0.30565279427373704,\n",
       " 0.1080645817597881,\n",
       " 8,\n",
       " 26.173488840528467,\n",
       " array([ 0.00435328,  0.64716674]))"
      ]
     },
     "execution_count": 185,
     "metadata": {},
     "output_type": "execute_result"
    },
    {
     "data": {
      "image/png": "[encoded data removed]",
      "text/plain": [
       "<matplotlib.figure.Figure at 0x1b7bba588>"
      ]
     },
     "metadata": {},
     "output_type": "display_data"
    }
   ],
   "source": [
    "run_analysis((2400.0, 3900.0), (20, 40))"
   ]
  },
  {
   "cell_type": "code",
   "execution_count": null,
   "metadata": {
    "collapsed": true
   },
   "outputs": [],
   "source": []
  }
 ],
 "metadata": {
  "kernelspec": {
   "display_name": "Python 3",
   "language": "python",
   "name": "python3"
  },
  "language_info": {
   "codemirror_mode": {
    "name": "ipython",
    "version": 3
   },
   "file_extension": ".py",
   "mimetype": "text/x-python",
   "name": "python",
   "nbconvert_exporter": "python",
   "pygments_lexer": "ipython3",
   "version": "3.4.3"
  }
 },
 "nbformat": 4,
 "nbformat_minor": 0
}
