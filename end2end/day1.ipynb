{
 "cells": [
  {
   "cell_type": "code",
   "execution_count": 1,
   "metadata": {
    "collapsed": true
   },
   "outputs": [],
   "source": [
    "%matplotlib inline"
   ]
  },
  {
   "cell_type": "code",
   "execution_count": 6,
   "metadata": {
    "collapsed": true
   },
   "outputs": [],
   "source": [
    "import os\n",
    "import requests\n",
    "import numpy as np\n",
    "import pandas as pd\n",
    "from io import BytesIO  # Python 3 only!\n",
    "import matplotlib.pyplot as pl\n",
    "\n",
    "\n",
    "def get_catalog(name, basepath=\"data\"):\n",
    "    \"\"\"\n",
    "    Download a catalog from the Exoplanet Archive by name and save it as a\n",
    "    Pandas HDF5 file.\n",
    "\n",
    "    :param name:     the table name\n",
    "    :param basepath: the directory where the downloaded files should be saved\n",
    "                     (default: ``data`` in the current working directory)\n",
    "\n",
    "    \"\"\"\n",
    "    fn = os.path.join(basepath, \"{0}.h5\".format(name))\n",
    "    if os.path.exists(fn):\n",
    "        return pd.read_hdf(fn, name)\n",
    "    if not os.path.exists(basepath):\n",
    "        os.makedirs(basepath)\n",
    "    print(\"Downloading {0}...\".format(name))\n",
    "    url = (\"http://exoplanetarchive.ipac.caltech.edu/cgi-bin/nstedAPI/\"\n",
    "           \"nph-nstedAPI?table={0}&select=*\").format(name)\n",
    "    r = requests.get(url)\n",
    "    if r.status_code != requests.codes.ok:\n",
    "        r.raise_for_status()\n",
    "    fh = BytesIO(r.content)\n",
    "    df = pd.read_csv(fh)\n",
    "    df.to_hdf(fn, name, format=\"t\")\n",
    "    return df"
   ]
  },
  {
   "cell_type": "code",
   "execution_count": 94,
   "metadata": {
    "collapsed": false
   },
   "outputs": [
    {
     "name": "stdout",
     "output_type": "stream",
     "text": [
      "Selected 64781 targets after cuts\n"
     ]
    }
   ],
   "source": [
    "stlr = get_catalog(\"q1_q17_dr24_stellar\")\n",
    "\n",
    "# Select the stars.\n",
    "trng = (5300.0, 6000.0)\n",
    "logg = (4.0, 10000.0)\n",
    "m = np.isfinite(stlr.teff) & (trng[0] <= stlr.teff) & (stlr.teff < trng[1])\n",
    "m &= np.isfinite(stlr.logg) & (logg[0] <= stlr.logg) & (stlr.logg < logg[1])\n",
    "\n",
    "# Only include stars with sufficient data coverage.\n",
    "m &= stlr.dataspan > 30.0\n",
    "m &= stlr.dutycycle > 0.1\n",
    "\n",
    "# Only select stars with mass estimates.\n",
    "m &= np.isfinite(stlr.mass)\n",
    "stlr = pd.DataFrame(stlr[m])\n",
    "print(\"Selected {0} targets after cuts\".format(len(stlr)))"
   ]
  },
  {
   "cell_type": "code",
   "execution_count": 137,
   "metadata": {
    "collapsed": false
   },
   "outputs": [
    {
     "name": "stdout",
     "output_type": "stream",
     "text": [
      "Selected 25 KOIs after cuts\n"
     ]
    }
   ],
   "source": [
    "kois = get_catalog(\"q1_q17_dr24_koi\")\n",
    "\n",
    "# Select candidates.\n",
    "period_rng = (40, 80)\n",
    "rp_rng = (1.5, 2.3)\n",
    "\n",
    "# Join on the stellar list.\n",
    "kois = pd.merge(kois, stlr[[\"kepid\", \"teff\", \"radius\"]], on=\"kepid\", how=\"inner\")\n",
    "\n",
    "# Only select the KOIs in the relevant part of parameter space.\n",
    "m = kois.koi_pdisposition == \"CANDIDATE\"\n",
    "base_kois = pd.DataFrame(kois[m])\n",
    "m &= (period_rng[0] <= kois.koi_period) & (kois.koi_period < period_rng[1])\n",
    "m &= np.isfinite(kois.koi_prad) & (rp_rng[0] <= kois.koi_prad) & (kois.koi_prad < rp_rng[1])\n",
    "m &= np.isfinite(kois.koi_max_mult_ev) & (kois.koi_max_mult_ev > 15.0)\n",
    "\n",
    "kois = pd.DataFrame(kois[m])\n",
    "print(\"Selected {0} KOIs after cuts\".format(len(kois)))"
   ]
  },
  {
   "cell_type": "code",
   "execution_count": null,
   "metadata": {
    "collapsed": true
   },
   "outputs": [],
   "source": [
    "kois.koi_srad"
   ]
  },
  {
   "cell_type": "code",
   "execution_count": 140,
   "metadata": {
    "collapsed": false
   },
   "outputs": [
    {
     "data": {
      "text/html": [
       "<div>\n",
       "<table border=\"1\" class=\"dataframe\">\n",
       "  <thead>\n",
       "    <tr style=\"text-align: right;\">\n",
       "      <th></th>\n",
       "      <th>koi_steff</th>\n",
       "      <th>teff</th>\n",
       "      <th>koi_srad</th>\n",
       "      <th>radius</th>\n",
       "    </tr>\n",
       "  </thead>\n",
       "  <tbody>\n",
       "    <tr>\n",
       "      <th>35</th>\n",
       "      <td>5529</td>\n",
       "      <td>5376</td>\n",
       "      <td>0.832</td>\n",
       "      <td>0.940</td>\n",
       "    </tr>\n",
       "    <tr>\n",
       "      <th>295</th>\n",
       "      <td>5741</td>\n",
       "      <td>5695</td>\n",
       "      <td>1.008</td>\n",
       "      <td>0.839</td>\n",
       "    </tr>\n",
       "    <tr>\n",
       "      <th>548</th>\n",
       "      <td>5601</td>\n",
       "      <td>5601</td>\n",
       "      <td>0.830</td>\n",
       "      <td>0.830</td>\n",
       "    </tr>\n",
       "    <tr>\n",
       "      <th>1162</th>\n",
       "      <td>5627</td>\n",
       "      <td>5627</td>\n",
       "      <td>1.056</td>\n",
       "      <td>1.056</td>\n",
       "    </tr>\n",
       "    <tr>\n",
       "      <th>1406</th>\n",
       "      <td>5893</td>\n",
       "      <td>5893</td>\n",
       "      <td>0.866</td>\n",
       "      <td>0.866</td>\n",
       "    </tr>\n",
       "    <tr>\n",
       "      <th>1484</th>\n",
       "      <td>6038</td>\n",
       "      <td>5670</td>\n",
       "      <td>0.922</td>\n",
       "      <td>0.950</td>\n",
       "    </tr>\n",
       "    <tr>\n",
       "      <th>1528</th>\n",
       "      <td>5857</td>\n",
       "      <td>5857</td>\n",
       "      <td>1.364</td>\n",
       "      <td>1.364</td>\n",
       "    </tr>\n",
       "    <tr>\n",
       "      <th>1539</th>\n",
       "      <td>5871</td>\n",
       "      <td>5871</td>\n",
       "      <td>1.703</td>\n",
       "      <td>1.703</td>\n",
       "    </tr>\n",
       "    <tr>\n",
       "      <th>1709</th>\n",
       "      <td>5465</td>\n",
       "      <td>5465</td>\n",
       "      <td>0.736</td>\n",
       "      <td>0.736</td>\n",
       "    </tr>\n",
       "    <tr>\n",
       "      <th>1815</th>\n",
       "      <td>5968</td>\n",
       "      <td>5968</td>\n",
       "      <td>0.881</td>\n",
       "      <td>0.881</td>\n",
       "    </tr>\n",
       "    <tr>\n",
       "      <th>1910</th>\n",
       "      <td>5500</td>\n",
       "      <td>5500</td>\n",
       "      <td>0.682</td>\n",
       "      <td>0.682</td>\n",
       "    </tr>\n",
       "    <tr>\n",
       "      <th>2054</th>\n",
       "      <td>5878</td>\n",
       "      <td>5878</td>\n",
       "      <td>1.041</td>\n",
       "      <td>1.041</td>\n",
       "    </tr>\n",
       "    <tr>\n",
       "      <th>2106</th>\n",
       "      <td>5314</td>\n",
       "      <td>5314</td>\n",
       "      <td>0.719</td>\n",
       "      <td>0.719</td>\n",
       "    </tr>\n",
       "    <tr>\n",
       "      <th>2125</th>\n",
       "      <td>5734</td>\n",
       "      <td>5534</td>\n",
       "      <td>0.883</td>\n",
       "      <td>1.001</td>\n",
       "    </tr>\n",
       "    <tr>\n",
       "      <th>2160</th>\n",
       "      <td>5798</td>\n",
       "      <td>5714</td>\n",
       "      <td>0.958</td>\n",
       "      <td>1.153</td>\n",
       "    </tr>\n",
       "    <tr>\n",
       "      <th>2164</th>\n",
       "      <td>5509</td>\n",
       "      <td>5509</td>\n",
       "      <td>0.759</td>\n",
       "      <td>0.759</td>\n",
       "    </tr>\n",
       "    <tr>\n",
       "      <th>2216</th>\n",
       "      <td>5674</td>\n",
       "      <td>5674</td>\n",
       "      <td>0.857</td>\n",
       "      <td>0.857</td>\n",
       "    </tr>\n",
       "    <tr>\n",
       "      <th>2297</th>\n",
       "      <td>5693</td>\n",
       "      <td>5693</td>\n",
       "      <td>0.802</td>\n",
       "      <td>0.802</td>\n",
       "    </tr>\n",
       "    <tr>\n",
       "      <th>2402</th>\n",
       "      <td>6174</td>\n",
       "      <td>5811</td>\n",
       "      <td>1.147</td>\n",
       "      <td>0.866</td>\n",
       "    </tr>\n",
       "    <tr>\n",
       "      <th>2445</th>\n",
       "      <td>5735</td>\n",
       "      <td>5735</td>\n",
       "      <td>0.854</td>\n",
       "      <td>0.854</td>\n",
       "    </tr>\n",
       "    <tr>\n",
       "      <th>2518</th>\n",
       "      <td>5934</td>\n",
       "      <td>5997</td>\n",
       "      <td>1.055</td>\n",
       "      <td>0.971</td>\n",
       "    </tr>\n",
       "    <tr>\n",
       "      <th>2654</th>\n",
       "      <td>5614</td>\n",
       "      <td>5614</td>\n",
       "      <td>0.827</td>\n",
       "      <td>0.827</td>\n",
       "    </tr>\n",
       "    <tr>\n",
       "      <th>2712</th>\n",
       "      <td>5767</td>\n",
       "      <td>5767</td>\n",
       "      <td>0.851</td>\n",
       "      <td>0.851</td>\n",
       "    </tr>\n",
       "    <tr>\n",
       "      <th>2782</th>\n",
       "      <td>5907</td>\n",
       "      <td>5907</td>\n",
       "      <td>0.973</td>\n",
       "      <td>0.973</td>\n",
       "    </tr>\n",
       "    <tr>\n",
       "      <th>2838</th>\n",
       "      <td>5968</td>\n",
       "      <td>5968</td>\n",
       "      <td>0.881</td>\n",
       "      <td>0.881</td>\n",
       "    </tr>\n",
       "  </tbody>\n",
       "</table>\n",
       "</div>"
      ],
      "text/plain": [
       "      koi_steff  teff  koi_srad  radius\n",
       "35         5529  5376     0.832   0.940\n",
       "295        5741  5695     1.008   0.839\n",
       "548        5601  5601     0.830   0.830\n",
       "1162       5627  5627     1.056   1.056\n",
       "1406       5893  5893     0.866   0.866\n",
       "1484       6038  5670     0.922   0.950\n",
       "1528       5857  5857     1.364   1.364\n",
       "1539       5871  5871     1.703   1.703\n",
       "1709       5465  5465     0.736   0.736\n",
       "1815       5968  5968     0.881   0.881\n",
       "1910       5500  5500     0.682   0.682\n",
       "2054       5878  5878     1.041   1.041\n",
       "2106       5314  5314     0.719   0.719\n",
       "2125       5734  5534     0.883   1.001\n",
       "2160       5798  5714     0.958   1.153\n",
       "2164       5509  5509     0.759   0.759\n",
       "2216       5674  5674     0.857   0.857\n",
       "2297       5693  5693     0.802   0.802\n",
       "2402       6174  5811     1.147   0.866\n",
       "2445       5735  5735     0.854   0.854\n",
       "2518       5934  5997     1.055   0.971\n",
       "2654       5614  5614     0.827   0.827\n",
       "2712       5767  5767     0.851   0.851\n",
       "2782       5907  5907     0.973   0.973\n",
       "2838       5968  5968     0.881   0.881"
      ]
     },
     "execution_count": 140,
     "metadata": {},
     "output_type": "execute_result"
    }
   ],
   "source": [
    "kois[[\"koi_steff\", \"teff\", \"koi_srad\", \"radius\"]]"
   ]
  },
  {
   "cell_type": "code",
   "execution_count": 148,
   "metadata": {
    "collapsed": false
   },
   "outputs": [
    {
     "data": {
      "image/png": "[encoded data removed]",
      "text/plain": [
       "<matplotlib.figure.Figure at 0x1260550f0>"
      ]
     },
     "metadata": {},
     "output_type": "display_data"
    }
   ],
   "source": [
    "inj = pd.read_csv(\"data/DR24-Pipeline-Detection-Efficiency-Table.txt\", delim_whitespace=True,\n",
    "                  skiprows=4, header=None, names=[\n",
    "                    \"kepid\", \"sky\", \"period\", \"epoch\", \"t_depth\", \"t_dur\", \"t_b\", \"t_ror\", \"t_aor\",\n",
    "                    \"offset_from_source\", \"offset_distance\", \"expect_mes\", \"recovered\", \"meas_mes\",\n",
    "                    \"r_period\", \"r_epoch\", \"r_depth\", \"r_dur\", \"r_b\", \"r_ror\", \"r_aor\"\n",
    "                  ])\n",
    "\n",
    "# Join on the stellar list.\n",
    "inj = pd.merge(inj, stlr[[\"kepid\"]], on=\"kepid\", how=\"inner\")\n",
    "\n",
    "# Estimate the linear trend above 15 MES.\n",
    "mesthresh = 15\n",
    "maxmes = 80\n",
    "m = (inj.expect_mes > mesthresh) & (inj.expect_mes < maxmes)\n",
    "bins = np.linspace(mesthresh, maxmes, 20)\n",
    "n_tot, _ = np.histogram(inj.expect_mes[m], bins)\n",
    "m &= inj.recovered\n",
    "n_rec, _ = np.histogram(inj.expect_mes[m], bins)\n",
    "\n",
    "x = 0.5 * (bins[:-1] + bins[1:])\n",
    "y = n_rec / n_tot\n",
    "m = np.isfinite(y)\n",
    "x, y = x[m], y[m]\n",
    "\n",
    "comp_p = np.polyfit(x, y, 1)\n",
    "pl.plot(x, y)\n",
    "\n",
    "x0 = np.linspace(0, 80, 500)\n",
    "pl.plot(x0, np.polyval(comp_p, x0) / (1 + np.exp(-2*(x0-mesthresh))))\n",
    "pl.xlabel(\"expected MES\");"
   ]
  },
  {
   "cell_type": "code",
   "execution_count": 152,
   "metadata": {
    "collapsed": false
   },
   "outputs": [],
   "source": [
    "def get_duration(period, aor, e):\n",
    "    \"\"\"\n",
    "    Equation (1) from Burke et al. This estimates the transit\n",
    "    duration in the same units as the input period. There is a\n",
    "    typo in the paper (24/4 = 6 != 4).\n",
    "    \n",
    "    :param period: the period in any units of your choosing\n",
    "    :param aor:    the dimensionless semi-major axis (scaled\n",
    "                   by the stellar radius)\n",
    "    :param e:      the eccentricity of the orbit\n",
    "    \n",
    "    \"\"\"\n",
    "    return 0.25 * period * np.sqrt(1 - e**2) / aor\n",
    "\n",
    "def get_a(period, mstar, Go4pi=2945.4625385377644/(4*np.pi*np.pi)):\n",
    "    \"\"\"\n",
    "    Compute the semi-major axis of an orbit in Solar radii.\n",
    "    \n",
    "    :param period: the period in days\n",
    "    :param mstar:  the stellar mass in Solar masses\n",
    "    \n",
    "    \"\"\"\n",
    "    return (Go4pi*period*period*mstar) ** (1./3)\n",
    "\n",
    "def get_delta(k, c=1.0874, s=1.0187):\n",
    "    \"\"\"\n",
    "    Estimate the approximate expected transit depth as a function\n",
    "    of radius ratio. There might be a typo here. In the paper it\n",
    "    uses c + s*k but in the public code, it is c - s*k:\n",
    "    https://github.com/christopherburke/KeplerPORTs\n",
    "    \n",
    "    :param k: the dimensionless radius ratio between the planet and\n",
    "              the star\n",
    "    \n",
    "    \"\"\"\n",
    "    delta_max = k*k * (c + s*k)\n",
    "    return 0.84 * delta_max\n",
    "\n",
    "cdpp_cols = [k for k in stlr.keys() if k.startswith(\"rrmscdpp\")]\n",
    "cdpp_vals = np.array([k[-4:].replace(\"p\", \".\") for k in cdpp_cols], dtype=float)\n",
    "def get_mes(star, period, rp, tau, re=0.009171):\n",
    "    \"\"\"\n",
    "    Estimate the multiple event statistic value for a transit.\n",
    "    \n",
    "    :param star:   a pandas row giving the stellar properties\n",
    "    :param period: the period in days\n",
    "    :param rp:     the planet radius in Earth radii\n",
    "    :param tau:    the transit duration in hours\n",
    "    \n",
    "    \"\"\"\n",
    "    # Interpolate to the correct CDPP for the duration.\n",
    "    cdpp = np.array(star[cdpp_cols], dtype=float)\n",
    "    sigma = np.interp(tau, cdpp_vals, cdpp)\n",
    "\n",
    "    # Compute the radius ratio and estimate the S/N.\n",
    "    k = rp * re / star.radius\n",
    "    snr = get_delta(k) * 1e6 / sigma\n",
    "    \n",
    "    # Scale by the estimated number of transits.\n",
    "    ntrn = star.dataspan * star.dutycycle / period \n",
    "    return snr * np.sqrt(ntrn)\n",
    "\n",
    "# Pre-compute and freeze the gamma function from Equation (5) in\n",
    "# Burke et al.\n",
    "def get_pdet(star, aor, period, rp, e):\n",
    "    \"\"\"\n",
    "    Equation (5) from Burke et al. Estimate the detection efficiency\n",
    "    for a transit.\n",
    "    \n",
    "    :param star:   a pandas row giving the stellar properties\n",
    "    :param aor:    the dimensionless semi-major axis (scaled\n",
    "                   by the stellar radius)\n",
    "    :param period: the period in days\n",
    "    :param rp:     the planet radius in Earth radii\n",
    "    :param e:      the orbital eccentricity\n",
    "    \n",
    "    \"\"\"\n",
    "    \n",
    "    tau = get_duration(period, aor, e) * 24.\n",
    "    mes = get_mes(star, period, rp, tau)\n",
    "    y = np.polyval(comp_p, mes) / (1 + np.exp(-2*(mes-mesthresh)))\n",
    "    y[y > 1.0] = 1.0\n",
    "    return y\n",
    "\n",
    "def get_pwin(star, period):\n",
    "    \"\"\"\n",
    "    Equation (6) from Burke et al. Estimates the window function\n",
    "    using a binomial distribution.\n",
    "    \n",
    "    :param star:   a pandas row giving the stellar properties\n",
    "    :param period: the period in days\n",
    "    \n",
    "    \"\"\"\n",
    "    M = star.dataspan / period\n",
    "    f = star.dutycycle\n",
    "    omf = 1.0 - f\n",
    "    pw = 1 - omf**M - M*f*omf**(M-1) - 0.5*M*(M-1)*f*f*omf**(M-2)\n",
    "    msk = (pw >= 0.0) * (M >= 2.0)\n",
    "    return pw * msk\n",
    "\n",
    "def get_pgeom(aor, e):\n",
    "    \"\"\"\n",
    "    The geometric transit probability.\n",
    "    \n",
    "    See e.g. Kipping (2014) for the eccentricity factor\n",
    "    http://arxiv.org/abs/1408.1393\n",
    "    \n",
    "    :param aor: the dimensionless semi-major axis (scaled\n",
    "                by the stellar radius)\n",
    "    :param e:   the orbital eccentricity\n",
    "\n",
    "    \"\"\"\n",
    "    return 1. / (aor * (1 - e*e)) * (aor > 1.0)\n",
    "\n",
    "def get_completeness(star, period, rp, e, with_geom=True):\n",
    "    \"\"\"\n",
    "    A helper function to combine all the completeness effects.\n",
    "    \n",
    "    :param star:      a pandas row giving the stellar properties\n",
    "    :param period:    the period in days\n",
    "    :param rp:        the planet radius in Earth radii\n",
    "    :param e:         the orbital eccentricity\n",
    "    :param with_geom: include the geometric transit probability?\n",
    "    \n",
    "    \"\"\"\n",
    "    aor = get_a(period, star.mass) / star.radius\n",
    "    pdet = get_pdet(star, aor, period, rp, e)\n",
    "    pwin = get_pwin(star, period)\n",
    "    if not with_geom:\n",
    "        return pdet * pwin\n",
    "    pgeom = get_pgeom(aor, e)\n",
    "    return pdet * pwin * pgeom"
   ]
  },
  {
   "cell_type": "code",
   "execution_count": 153,
   "metadata": {
    "collapsed": false
   },
   "outputs": [],
   "source": [
    "# # Choose the star.\n",
    "# star = stlr[stlr.kepid == 10593626].iloc[0]\n",
    "\n",
    "# # Compute the completeness map on a grid.\n",
    "# period = np.linspace(10, 700, 500)\n",
    "# rp = np.linspace(0.5, 2.5, 421)\n",
    "# X, Y = np.meshgrid(period, rp, indexing=\"ij\")\n",
    "# Z = get_completeness(star, X, Y, 0.0, with_geom=False)\n",
    "\n",
    "# # Plot with the same contour levels as the figure.\n",
    "# c = pl.contour(X, Y, Z, [0.01, 0.05, 0.1, 0.25, 0.5, 0.75, 0.9, 0.95, 0.99], colors=\"k\")\n",
    "# pl.clabel(c, fontsize=12, inline=1, fmt=\"%.2f\") \n",
    "# pl.xlabel(\"period [days]\")\n",
    "# pl.ylabel(\"$R_p \\, [R_\\oplus]$\")\n",
    "# pl.title(\"det. eff. for KIC10593626\");"
   ]
  },
  {
   "cell_type": "code",
   "execution_count": 154,
   "metadata": {
    "collapsed": false
   },
   "outputs": [],
   "source": [
    "period = np.linspace(period_rng[0], period_rng[1], 57)\n",
    "rp = np.linspace(rp_rng[0], rp_rng[1], 61)\n",
    "period_grid, rp_grid = np.meshgrid(period, rp, indexing=\"ij\")\n",
    "comp = np.zeros_like(period_grid)\n",
    "for _, star in stlr.iterrows():\n",
    "    comp += get_completeness(star, period_grid, rp_grid, 0.0, with_geom=True)"
   ]
  },
  {
   "cell_type": "code",
   "execution_count": 155,
   "metadata": {
    "collapsed": false
   },
   "outputs": [
    {
     "data": {
      "image/png": "[encoded data removed]",
      "text/plain": [
       "<matplotlib.figure.Figure at 0x124385c18>"
      ]
     },
     "metadata": {},
     "output_type": "display_data"
    }
   ],
   "source": [
    "pl.pcolor(period_grid, rp_grid, comp, cmap=\"BuGn\")\n",
    "c = pl.contour(period_grid, rp_grid, comp / len(stlr),\n",
    "               colors=\"k\", alpha=0.8)\n",
    "pl.clabel(c, fontsize=12, inline=1, fmt=\"%.3f\")\n",
    "pl.title(\"mean pipeline detection efficiency\")\n",
    "pl.xlabel(\"period [days]\")\n",
    "pl.ylabel(\"$R_p \\, [R_\\oplus]$\");"
   ]
  },
  {
   "cell_type": "code",
   "execution_count": 175,
   "metadata": {
    "collapsed": false
   },
   "outputs": [],
   "source": [
    "area = np.diff(np.log(period))[0] * np.diff(np.log(rp))[0]\n",
    "Q = float(np.sum(comp * area) / (np.diff(np.log(period_rng)) * np.diff(np.log(rp_rng))))\n",
    "N = len(kois)\n",
    "occ = N / Q\n",
    "sig = occ / np.sqrt(N)"
   ]
  },
  {
   "cell_type": "code",
   "execution_count": 176,
   "metadata": {
    "collapsed": false
   },
   "outputs": [
    {
     "data": {
      "text/plain": [
       "0.06629080539769654"
      ]
     },
     "execution_count": 176,
     "metadata": {},
     "output_type": "execute_result"
    }
   ],
   "source": [
    "occ"
   ]
  },
  {
   "cell_type": "code",
   "execution_count": 177,
   "metadata": {
    "collapsed": false
   },
   "outputs": [
    {
     "data": {
      "text/plain": [
       "0.005821555811441504"
      ]
     },
     "execution_count": 177,
     "metadata": {},
     "output_type": "execute_result"
    }
   ],
   "source": [
    "Q / len(stlr)"
   ]
  },
  {
   "cell_type": "code",
   "execution_count": 178,
   "metadata": {
    "collapsed": false
   },
   "outputs": [
    {
     "name": "stdout",
     "output_type": "stream",
     "text": [
      "0.066 ± 0.013\n"
     ]
    }
   ],
   "source": [
    "print(\"{0:.2} ± {1:.2}\".format(occ, sig))"
   ]
  },
  {
   "cell_type": "code",
   "execution_count": null,
   "metadata": {
    "collapsed": true
   },
   "outputs": [],
   "source": []
  }
 ],
 "metadata": {
  "kernelspec": {
   "display_name": "Python 3",
   "language": "python",
   "name": "python3"
  },
  "language_info": {
   "codemirror_mode": {
    "name": "ipython",
    "version": 3
   },
   "file_extension": ".py",
   "mimetype": "text/x-python",
   "name": "python",
   "nbconvert_exporter": "python",
   "pygments_lexer": "ipython3",
   "version": "3.4.3"
  }
 },
 "nbformat": 4,
 "nbformat_minor": 0
}
